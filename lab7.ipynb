{
  "nbformat": 4,
  "nbformat_minor": 0,
  "metadata": {
    "colab": {
      "name": "lab7.ipynb",
      "provenance": [],
      "authorship_tag": "ABX9TyOs28zUltPm8cPTik+jKjwh",
      "include_colab_link": true
    },
    "kernelspec": {
      "name": "python3",
      "display_name": "Python 3"
    }
  },
  "cells": [
    {
      "cell_type": "markdown",
      "metadata": {
        "id": "view-in-github",
        "colab_type": "text"
      },
      "source": [
        "<a href=\"https://colab.research.google.com/github/DAOTHITHUNGA/CS114.K21.KHTN/blob/master/lab7.ipynb\" target=\"_parent\"><img src=\"https://colab.research.google.com/assets/colab-badge.svg\" alt=\"Open In Colab\"/></a>"
      ]
    },
    {
      "cell_type": "markdown",
      "metadata": {
        "id": "Xmp-nJMpEigj",
        "colab_type": "text"
      },
      "source": [
        "import các thư viện cần thiết "
      ]
    },
    {
      "cell_type": "code",
      "metadata": {
        "id": "5TTraOueUMQv",
        "colab_type": "code",
        "colab": {}
      },
      "source": [
        "import pandas as pd \n",
        "from sklearn.model_selection import train_test_split\n",
        "from sklearn.linear_model import LinearRegression\n",
        "from sklearn.metrics import mean_absolute_error"
      ],
      "execution_count": 0,
      "outputs": []
    },
    {
      "cell_type": "markdown",
      "metadata": {
        "id": "vKpZjMfXEs1y",
        "colab_type": "text"
      },
      "source": [
        "đọc dữ liệu tải trên kaggle "
      ]
    },
    {
      "cell_type": "code",
      "metadata": {
        "id": "1TaLnL1_g2yQ",
        "colab_type": "code",
        "outputId": "c1da1e83-35f2-40b8-df2e-d975e79ea213",
        "colab": {
          "base_uri": "https://localhost:8080/",
          "height": 34
        }
      },
      "source": [
        "data = pd.read_csv('/content/train.csv')\n",
        "print(data.shape)"
      ],
      "execution_count": 5,
      "outputs": [
        {
          "output_type": "stream",
          "text": [
            "(1460, 81)\n"
          ],
          "name": "stdout"
        }
      ]
    },
    {
      "cell_type": "markdown",
      "metadata": {
        "id": "a5yn4XQ7Eyxm",
        "colab_type": "text"
      },
      "source": [
        "đọc các cột "
      ]
    },
    {
      "cell_type": "code",
      "metadata": {
        "id": "otDG8-wthDxv",
        "colab_type": "code",
        "outputId": "78293d8e-3d86-432f-db67-b669c4b615f6",
        "colab": {
          "base_uri": "https://localhost:8080/",
          "height": 336
        }
      },
      "source": [
        "print(len(data.columns))\n",
        "data.columns"
      ],
      "execution_count": 6,
      "outputs": [
        {
          "output_type": "stream",
          "text": [
            "81\n"
          ],
          "name": "stdout"
        },
        {
          "output_type": "execute_result",
          "data": {
            "text/plain": [
              "Index(['Id', 'MSSubClass', 'MSZoning', 'LotFrontage', 'LotArea', 'Street',\n",
              "       'Alley', 'LotShape', 'LandContour', 'Utilities', 'LotConfig',\n",
              "       'LandSlope', 'Neighborhood', 'Condition1', 'Condition2', 'BldgType',\n",
              "       'HouseStyle', 'OverallQual', 'OverallCond', 'YearBuilt', 'YearRemodAdd',\n",
              "       'RoofStyle', 'RoofMatl', 'Exterior1st', 'Exterior2nd', 'MasVnrType',\n",
              "       'MasVnrArea', 'ExterQual', 'ExterCond', 'Foundation', 'BsmtQual',\n",
              "       'BsmtCond', 'BsmtExposure', 'BsmtFinType1', 'BsmtFinSF1',\n",
              "       'BsmtFinType2', 'BsmtFinSF2', 'BsmtUnfSF', 'TotalBsmtSF', 'Heating',\n",
              "       'HeatingQC', 'CentralAir', 'Electrical', '1stFlrSF', '2ndFlrSF',\n",
              "       'LowQualFinSF', 'GrLivArea', 'BsmtFullBath', 'BsmtHalfBath', 'FullBath',\n",
              "       'HalfBath', 'BedroomAbvGr', 'KitchenAbvGr', 'KitchenQual',\n",
              "       'TotRmsAbvGrd', 'Functional', 'Fireplaces', 'FireplaceQu', 'GarageType',\n",
              "       'GarageYrBlt', 'GarageFinish', 'GarageCars', 'GarageArea', 'GarageQual',\n",
              "       'GarageCond', 'PavedDrive', 'WoodDeckSF', 'OpenPorchSF',\n",
              "       'EnclosedPorch', '3SsnPorch', 'ScreenPorch', 'PoolArea', 'PoolQC',\n",
              "       'Fence', 'MiscFeature', 'MiscVal', 'MoSold', 'YrSold', 'SaleType',\n",
              "       'SaleCondition', 'SalePrice'],\n",
              "      dtype='object')"
            ]
          },
          "metadata": {
            "tags": []
          },
          "execution_count": 6
        }
      ]
    },
    {
      "cell_type": "markdown",
      "metadata": {
        "id": "KunMy1skE3Ve",
        "colab_type": "text"
      },
      "source": [
        "Lấy dữ liệu ở 7 cột "
      ]
    },
    {
      "cell_type": "code",
      "metadata": {
        "id": "YB8pS-ClhFTG",
        "colab_type": "code",
        "outputId": "21fa7422-2e94-4a61-a706-5ab5538daa04",
        "colab": {
          "base_uri": "https://localhost:8080/",
          "height": 34
        }
      },
      "source": [
        "names = ['LotArea','YearBuilt', '1stFlrSF', '2ndFlrSF', 'FullBath', 'BedroomAbvGr', 'TotRmsAbvGrd']\n",
        "features = data[names]\n",
        "labels = data.SalePrice\n",
        "names.append"
      ],
      "execution_count": 7,
      "outputs": [
        {
          "output_type": "execute_result",
          "data": {
            "text/plain": [
              "<function list.append>"
            ]
          },
          "metadata": {
            "tags": []
          },
          "execution_count": 7
        }
      ]
    },
    {
      "cell_type": "markdown",
      "metadata": {
        "id": "oPajskvcE8U4",
        "colab_type": "text"
      },
      "source": [
        "chia thành 2 tệp X_train và X_test"
      ]
    },
    {
      "cell_type": "code",
      "metadata": {
        "id": "DFWm0kVuhkvf",
        "colab_type": "code",
        "colab": {}
      },
      "source": [
        "X_train, X_test, y_train, y_test = train_test_split(features, labels, test_size=0.25)"
      ],
      "execution_count": 0,
      "outputs": []
    },
    {
      "cell_type": "markdown",
      "metadata": {
        "id": "aAopMzDzFC4A",
        "colab_type": "text"
      },
      "source": [
        ""
      ]
    },
    {
      "cell_type": "code",
      "metadata": {
        "id": "556DPC90hu7L",
        "colab_type": "code",
        "outputId": "63049610-ed4a-4d4b-e214-1c0d01a3a0af",
        "colab": {
          "base_uri": "https://localhost:8080/",
          "height": 84
        }
      },
      "source": [
        "print(X_train.shape)\n",
        "print(X_test.shape)\n",
        "print(y_train.shape)\n",
        "print(y_test.shape)"
      ],
      "execution_count": 9,
      "outputs": [
        {
          "output_type": "stream",
          "text": [
            "(1095, 7)\n",
            "(365, 7)\n",
            "(1095,)\n",
            "(365,)\n"
          ],
          "name": "stdout"
        }
      ]
    },
    {
      "cell_type": "markdown",
      "metadata": {
        "id": "pIjqODRUFTrV",
        "colab_type": "text"
      },
      "source": [
        "gọi model "
      ]
    },
    {
      "cell_type": "code",
      "metadata": {
        "id": "PlHBVntDhz6v",
        "colab_type": "code",
        "outputId": "1240add4-801e-4cf7-ab6f-adb8df28dd77",
        "colab": {
          "base_uri": "https://localhost:8080/",
          "height": 34
        }
      },
      "source": [
        "model = LinearRegression() \n",
        "model.fit(X_train,y_train)"
      ],
      "execution_count": 10,
      "outputs": [
        {
          "output_type": "execute_result",
          "data": {
            "text/plain": [
              "LinearRegression(copy_X=True, fit_intercept=True, n_jobs=None, normalize=False)"
            ]
          },
          "metadata": {
            "tags": []
          },
          "execution_count": 10
        }
      ]
    },
    {
      "cell_type": "markdown",
      "metadata": {
        "id": "2tNoEYMBa7od",
        "colab_type": "text"
      },
      "source": [
        "lấy predict cho X_test(là hàm dự đoán hàm y=ax+b)"
      ]
    },
    {
      "cell_type": "code",
      "metadata": {
        "id": "F2jZ9HfISj1v",
        "colab_type": "code",
        "colab": {}
      },
      "source": [
        "pred = model.predict(X_test)"
      ],
      "execution_count": 0,
      "outputs": []
    },
    {
      "cell_type": "markdown",
      "metadata": {
        "id": "4q1RRB0Wa5uK",
        "colab_type": "text"
      },
      "source": [
        "Hàm mean_absolute_error tính toán sai số tuyệt đối, chỉ số rủi ro tương ứng với giá trị dự kiến ​​của tổn thất lỗi tuyệt đối hoặc mất định mức"
      ]
    },
    {
      "cell_type": "code",
      "metadata": {
        "id": "wwCGOZKASqMP",
        "colab_type": "code",
        "outputId": "693608e7-7ada-4d0f-aa20-9f56fcab9988",
        "colab": {
          "base_uri": "https://localhost:8080/",
          "height": 34
        }
      },
      "source": [
        "print('MAE', mean_absolute_error(y_test, pred))"
      ],
      "execution_count": 12,
      "outputs": [
        {
          "output_type": "stream",
          "text": [
            "MAE 31973.949973970804\n"
          ],
          "name": "stdout"
        }
      ]
    }
  ]
}
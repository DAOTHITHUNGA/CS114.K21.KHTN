{
  "nbformat": 4,
  "nbformat_minor": 0,
  "metadata": {
    "colab": {
      "name": "Untitled5.ipynb",
      "provenance": [],
      "authorship_tag": "ABX9TyPLz5JPAmYBeigxKQXNMmzA",
      "include_colab_link": true
    },
    "kernelspec": {
      "name": "python3",
      "display_name": "Python 3"
    }
  },
  "cells": [
    {
      "cell_type": "markdown",
      "metadata": {
        "id": "view-in-github",
        "colab_type": "text"
      },
      "source": [
        "<a href=\"https://colab.research.google.com/github/DAOTHITHUNGA/CS114.K21.KHTN/blob/master/doancuoikiML.ipynb\" target=\"_parent\"><img src=\"https://colab.research.google.com/assets/colab-badge.svg\" alt=\"Open In Colab\"/></a>"
      ]
    },
    {
      "cell_type": "markdown",
      "metadata": {
        "id": "Zb2bMt9_0fLP",
        "colab_type": "text"
      },
      "source": [
        "﻿Đề xuất đồ án cuối kỳ : Máy Học\n",
        "Đào Thị Thu Nga - 18521135\n",
        "Lớp CS114.K21.KHTN\n",
        "Bài toán : Nhận diện lá cây trong khuôn viên làng đại học\n",
        "1. Mô tả bài toán \n",
        "* Input: Ảnh chụp chính diện 1 lá cây\n",
        "* Output : tên loại lá trong ảnh\n",
        "2. Mô tả về bộ dữ liệu\n",
        "* Tự xây dựng bộ dữ liệu :\n",
        "* Thu thập các loại lá cây trong khuôn viên làng đại học, sau đó chụp bằng camera điện thoại có độ phân giải 3000*4000.\n",
        "* Lá cây được chụp chính diện dưới ánh sáng ban ngày, nền chụp trắng.\n",
        "* Số lượng, độ đa dạng:\n",
        "* 35 loại lá cây, mỗi loại 20 mẫu lá => tổng cộng 700 ảnh.\n",
        "* Các thao tác tiền xử lý dữ liệu:\n",
        "*  Hình ảnh tất cả loại lá đều được xoay theo cùng một hướng (đầu lá phải hướng lên trên)\n",
        "* Phân chia\n",
        "* 75% train / 25% test : 525 train / 175 test.\n",
        "3. Mô tả về đặc trưng\n",
        "* Các đặc trưng được trích xuất:\n",
        "* Shape feature: chiều dài, chiều rộng của lá, diện tích, chu vi của lá, diện tích, chu vi thân tàu, bản đồ khoảng cách dọc theo trục dọc và trục ngang\n",
        "* Color Histogram: biểu đồ màu và bản đồ khoảng cách xuyên tâm dựa trên centroid. \n",
        "4. Mô tả về thuật toán máy học\n",
        "* Sử dụng KNN làm bộ phân loại\n",
        "5. Cài đặt, tinh chỉnh tham số\n",
        "* Thực hiện xây dựng chương trình demo trên Colab\n",
        "* Điều chỉnh các tham số về scale ảnh, threshold binary image, k neighbor, ..vv\n",
        "6. Đánh giá kết quả, kết luận\n",
        "* Sử dụng độ đo MAP"
      ]
    }
  ]
}

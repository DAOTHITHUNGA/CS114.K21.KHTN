{
  "nbformat": 4,
  "nbformat_minor": 0,
  "metadata": {
    "colab": {
      "name": "Untitled3.ipynb",
      "provenance": [],
      "authorship_tag": "ABX9TyMvbyICv9uA7Dpenx3NcIdQ",
      "include_colab_link": true
    },
    "kernelspec": {
      "name": "python3",
      "display_name": "Python 3"
    },
    "accelerator": "GPU"
  },
  "cells": [
    {
      "cell_type": "markdown",
      "metadata": {
        "id": "view-in-github",
        "colab_type": "text"
      },
      "source": [
        "<a href=\"https://colab.research.google.com/github/DAOTHITHUNGA/CS114.K21.KHTN/blob/master/testplant_leaf.ipynb\" target=\"_parent\"><img src=\"https://colab.research.google.com/assets/colab-badge.svg\" alt=\"Open In Colab\"/></a>"
      ]
    },
    {
      "cell_type": "code",
      "metadata": {
        "id": "mMf-ioFsPDAD",
        "colab_type": "code",
        "colab": {
          "base_uri": "https://localhost:8080/",
          "height": 151
        },
        "outputId": "a6cc1585-430c-4fdb-d594-bd2d7aeddef4"
      },
      "source": [
        "!git clone https://github.com/DAOTHITHUNGA/CS114.K21.KHTN.git"
      ],
      "execution_count": 1,
      "outputs": [
        {
          "output_type": "stream",
          "text": [
            "Cloning into 'CS114.K21.KHTN'...\n",
            "remote: Enumerating objects: 710, done.\u001b[K\n",
            "remote: Counting objects: 100% (710/710), done.\u001b[K\n",
            "remote: Compressing objects: 100% (689/689), done.\u001b[K\n",
            "remote: Total 710 (delta 24), reused 684 (delta 18), pack-reused 0\u001b[K\n",
            "Receiving objects: 100% (710/710), 928.65 MiB | 42.46 MiB/s, done.\n",
            "Resolving deltas: 100% (24/24), done.\n",
            "Checking out files: 100% (648/648), done.\n"
          ],
          "name": "stdout"
        }
      ]
    },
    {
      "cell_type": "code",
      "metadata": {
        "id": "oiNDSXsDPeTa",
        "colab_type": "code",
        "colab": {
          "base_uri": "https://localhost:8080/",
          "height": 34
        },
        "outputId": "f75fe889-641e-479d-ca5a-dc69d6ff03af"
      },
      "source": [
        "cd CS114.K21.KHTN/project/"
      ],
      "execution_count": 4,
      "outputs": [
        {
          "output_type": "stream",
          "text": [
            "/content/CS114.K21.KHTN/project\n"
          ],
          "name": "stdout"
        }
      ]
    },
    {
      "cell_type": "code",
      "metadata": {
        "id": "-zclSNQQPeSR",
        "colab_type": "code",
        "colab": {
          "base_uri": "https://localhost:8080/",
          "height": 672
        },
        "outputId": "b51b2848-2090-456d-ac1b-be0961f01501"
      },
      "source": [
        "!python test.py\n"
      ],
      "execution_count": 11,
      "outputs": [
        {
          "output_type": "stream",
          "text": [
            "                   precision    recall  f1-score   support\n",
            "\n",
            "    ashanti blood       0.40      1.00      0.57         4\n",
            "  barbados cherry       0.50      0.50      0.50         4\n",
            "beaumier du perou       1.00      0.80      0.89         5\n",
            "            betel       1.00      1.00      1.00         3\n",
            "    bitter orange       0.83      0.83      0.83         6\n",
            " caricature plant       1.00      1.00      1.00         2\n",
            "    chinese guava       0.33      1.00      0.50         1\n",
            "   chocolate tree       1.00      1.00      1.00         3\n",
            "    chrysanthemum       1.00      0.50      0.67         4\n",
            " coeur demoiselle       0.50      0.40      0.44         5\n",
            "           coffee       0.25      0.25      0.25         4\n",
            "           croton       1.00      0.91      0.95        11\n",
            "     duranta gold       1.00      0.67      0.80         3\n",
            "         eggplant       1.00      0.80      0.89         5\n",
            "            ficus       1.00      1.00      1.00         5\n",
            "      fruitcitere       0.71      1.00      0.83         5\n",
            "         geranium       1.00      1.00      1.00         1\n",
            "            guava       0.60      1.00      0.75         3\n",
            "         hibiscus       0.00      0.00      0.00         4\n",
            "        jackfruit       1.00      1.00      1.00         1\n",
            "       ketembilla       1.00      0.60      0.75         5\n",
            "           lychee       1.00      1.00      1.00         3\n",
            "    mulberry leaf       1.00      0.17      0.29         6\n",
            "           papaya       1.00      0.75      0.86         4\n",
            "          pimento       0.62      1.00      0.77         5\n",
            "    pomme jacquot       0.80      0.67      0.73         6\n",
            "             rose       0.29      1.00      0.44         2\n",
            "       star apple       0.00      0.00      0.00         2\n",
            "      sweet olive       0.75      0.50      0.60         6\n",
            "     sweet potato       1.00      1.00      1.00         4\n",
            "         thevetia       1.00      1.00      1.00         5\n",
            "     vieux garcon       0.33      1.00      0.50         1\n",
            "\n",
            "         accuracy                           0.73       128\n",
            "        macro avg       0.75      0.76      0.71       128\n",
            "     weighted avg       0.79      0.73      0.73       128\n",
            "\n"
          ],
          "name": "stdout"
        }
      ]
    }
  ]
}